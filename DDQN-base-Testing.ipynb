{
 "cells": [
  {
   "cell_type": "code",
   "execution_count": 20,
   "metadata": {
    "colab": {},
    "colab_type": "code",
    "id": "Snwqo95321TF"
   },
   "outputs": [],
   "source": [
    "import math, random\n",
    "\n",
    "import gym\n",
    "import numpy as np\n",
    "import os\n",
    "import glob\n",
    "\n",
    "import torch\n",
    "import torch.nn as nn\n",
    "import torch.optim as optim\n",
    "import torch.autograd as autograd \n",
    "from torch.autograd import Variable\n",
    "import torch.nn.functional as F\n",
    "device = torch.device('cuda' if torch.cuda.is_available() else 'cpu')\n",
    "\n",
    "from IPython.display import clear_output\n",
    "import matplotlib.pyplot as plt\n",
    "%matplotlib inline"
   ]
  },
  {
   "cell_type": "code",
   "execution_count": 1,
   "metadata": {
    "colab": {
     "base_uri": "https://localhost:8080/",
     "height": 34
    },
    "colab_type": "code",
    "id": "xxmcAyc43Ibe",
    "outputId": "e971394c-cfe6-4fae-d1a9-e26b41c9b977"
   },
   "outputs": [],
   "source": [
    "ckpt_dir = './checkpoints_base'\n",
    "def get_ckpt_names():\n",
    "    ckpt_names = []\n",
    "    files = os.listdir(ckpt_dir)\n",
    "    files.sort()\n",
    "\n",
    "    file_with_ext = []\n",
    "    for foo in files:\n",
    "        file_with_ext.append(ckpt_dir + '/' + foo)\n",
    "\n",
    "    ckpt_names = sorted(file_with_ext,key=os.path.getctime)\n",
    "    return ckpt_names"
   ]
  },
  {
   "cell_type": "markdown",
   "metadata": {
    "colab_type": "text",
    "id": "83anyxgg21TL"
   },
   "source": [
    "<h3>Use Cuda</h3>"
   ]
  },
  {
   "cell_type": "code",
   "execution_count": 22,
   "metadata": {
    "colab": {},
    "colab_type": "code",
    "id": "O4gmd6kT21TM"
   },
   "outputs": [],
   "source": [
    "USE_CUDA = torch.cuda.is_available()\n",
    "Variable = lambda *args, **kwargs: autograd.Variable(*args, **kwargs).cuda() if USE_CUDA else autograd.Variable(*args, **kwargs)"
   ]
  },
  {
   "cell_type": "markdown",
   "metadata": {
    "colab_type": "text",
    "id": "i3WEDQ2D21Tb"
   },
   "source": [
    "<h2>Double Deep Q Network</h2>"
   ]
  },
  {
   "cell_type": "markdown",
   "metadata": {
    "colab_type": "text",
    "id": "dssAD_XL21Tg"
   },
   "source": [
    "<h3>Synchronize current policy net and target net</h3>"
   ]
  },
  {
   "cell_type": "code",
   "execution_count": 23,
   "metadata": {
    "colab": {},
    "colab_type": "code",
    "id": "agfxDsFv21Tg"
   },
   "outputs": [],
   "source": [
    "def update_target(current_model, target_model):\n",
    "    target_model.load_state_dict(current_model.state_dict())"
   ]
  },
  {
   "cell_type": "markdown",
   "metadata": {
    "colab_type": "text",
    "id": "RvQZ7Po821Tm"
   },
   "source": [
    "<h2>Computing Temporal Difference Loss</h2>"
   ]
  },
  {
   "cell_type": "code",
   "execution_count": 24,
   "metadata": {
    "colab": {},
    "colab_type": "code",
    "id": "W5mjewXr21To"
   },
   "outputs": [],
   "source": [
    "def plot(frame_idx, rewards, losses):\n",
    "    clear_output(True)\n",
    "    plt.figure(figsize=(20,5))\n",
    "    plt.subplot(131)\n",
    "    plt.title('frame %s. reward: %s' % (frame_idx, np.mean(rewards[-10:])))\n",
    "    plt.plot(rewards)\n",
    "    plt.subplot(132)\n",
    "    plt.title('loss')\n",
    "    plt.plot(losses)\n",
    "    plt.show()"
   ]
  },
  {
   "cell_type": "markdown",
   "metadata": {
    "colab_type": "text",
    "id": "G5XZgLjW21Tt"
   },
   "source": [
    "## Testing"
   ]
  },
  {
   "cell_type": "code",
   "execution_count": 33,
   "metadata": {
    "colab": {},
    "colab_type": "code",
    "id": "OpE2jZRB21Tv"
   },
   "outputs": [],
   "source": [
    "def plot_test(ckpt, rewards):\n",
    "    clear_output(True)\n",
    "    plt.figure(figsize=(20,5))\n",
    "    plt.subplot(131)\n",
    "    plt.title('Test checkpoint %s. reward: %s' % (ckpt[-1], np.mean(rewards[-10:])))\n",
    "    plt.plot(rewards)\n",
    "    plt.show()"
   ]
  },
  {
   "cell_type": "markdown",
   "metadata": {
    "colab_type": "text",
    "id": "4xphxTwU21T4"
   },
   "source": [
    "<h1>Atari Environment</h1>"
   ]
  },
  {
   "cell_type": "code",
   "execution_count": 26,
   "metadata": {
    "colab": {},
    "colab_type": "code",
    "id": "hA8R7yV421T4"
   },
   "outputs": [],
   "source": [
    "from wrappers import make_atari, wrap_deepmind, wrap_pytorch"
   ]
  },
  {
   "cell_type": "code",
   "execution_count": 27,
   "metadata": {
    "colab": {},
    "colab_type": "code",
    "id": "P5d86v8921T6"
   },
   "outputs": [],
   "source": [
    "env_id = \"PongNoFrameskip-v4\"\n",
    "env    = make_atari(env_id)\n",
    "env    = wrap_deepmind(env)\n",
    "env    = wrap_pytorch(env)"
   ]
  },
  {
   "cell_type": "code",
   "execution_count": 28,
   "metadata": {
    "colab": {},
    "colab_type": "code",
    "id": "10agAKi721T8"
   },
   "outputs": [],
   "source": [
    "class CnnDQN(nn.Module):\n",
    "    def __init__(self, input_shape, num_actions):\n",
    "        super(CnnDQN, self).__init__()\n",
    "        \n",
    "        self.input_shape = input_shape\n",
    "        self.num_actions = num_actions\n",
    "        \n",
    "        self.features = nn.Sequential(\n",
    "            nn.Conv2d(input_shape[0], 32, kernel_size=8, stride=4),\n",
    "            nn.ReLU(),\n",
    "            nn.Conv2d(32, 64, kernel_size=4, stride=2),\n",
    "            nn.ReLU(),\n",
    "            nn.Conv2d(64, 64, kernel_size=3, stride=1),\n",
    "            nn.ReLU()\n",
    "        )\n",
    "        \n",
    "        self.fc = nn.Sequential(\n",
    "            nn.Linear(self.feature_size(), 512),\n",
    "            nn.ReLU(),\n",
    "            nn.Linear(512, self.num_actions)\n",
    "        )\n",
    "        \n",
    "    def forward(self, x):\n",
    "        x = self.features(x)\n",
    "        x = x.view(x.size(0), -1)\n",
    "        x = self.fc(x)\n",
    "        return x\n",
    "    \n",
    "    def feature_size(self):\n",
    "        return self.features(autograd.Variable(torch.zeros(1, *self.input_shape))).view(1, -1).size(1)\n",
    "    \n",
    "    def act(self, state, epsilon):\n",
    "        if random.random() > epsilon:\n",
    "            state   = Variable(torch.FloatTensor(np.float32(state)).unsqueeze(0), volatile=True)\n",
    "            q_value = self.forward(state)\n",
    "            action  = q_value.max(1)[1].data[0]\n",
    "        else:\n",
    "            action = random.randrange(env.action_space.n)\n",
    "        return action"
   ]
  },
  {
   "cell_type": "markdown",
   "metadata": {
    "colab_type": "text",
    "id": "OOk2s6Yy21UJ"
   },
   "source": [
    "## Testing with Visualization"
   ]
  },
  {
   "cell_type": "code",
   "execution_count": 36,
   "metadata": {
    "colab": {},
    "colab_type": "code",
    "id": "bjMCRGTs21UJ"
   },
   "outputs": [],
   "source": [
    "from wrappers import make_atari, wrap_deepmind, wrap_pytorch\n",
    "env_id = \"PongNoFrameskip-v4\"\n",
    "env    = make_atari(env_id)\n",
    "env    = wrap_deepmind(env)\n",
    "env    = wrap_pytorch(env)"
   ]
  },
  {
   "cell_type": "code",
   "execution_count": 43,
   "metadata": {
    "colab": {},
    "colab_type": "code",
    "id": "zYkY0x1Q21UP"
   },
   "outputs": [],
   "source": [
    "# env_id = \"CartPole-v0\"\n",
    "# No exploring, only playin to the model for Testing\n",
    "epsilon=0\n",
    "# done=False\n",
    "\n",
    "def test(model):\n",
    "    done=False\n",
    "    model.eval()\n",
    "    \n",
    "    env = make_atari(env_id)\n",
    "    env = wrap_deepmind(env)\n",
    "    env = wrap_pytorch(env)\n",
    "    \n",
    "    state = env.reset()\n",
    "    \n",
    "    testReward=0\n",
    "    \n",
    "    while not done:\n",
    "        action = model.act(state, epsilon)\n",
    "\n",
    "        next_state, reward, done, _ = env.step(action)\n",
    "\n",
    "        state = next_state\n",
    "        \n",
    "        testReward += reward\n",
    "    state = env.reset()\n",
    "    if done:\n",
    "        env.close()\n",
    "\n",
    "    return testReward"
   ]
  },
  {
   "cell_type": "markdown",
   "metadata": {},
   "source": [
    "## Run Results for Every Checkpoint for a graph"
   ]
  },
  {
   "cell_type": "code",
   "execution_count": 40,
   "metadata": {
    "colab": {},
    "colab_type": "code",
    "id": "0P6z1ifw21UQ"
   },
   "outputs": [
    {
     "name": "stdout",
     "output_type": "stream",
     "text": [
      "['./checkpoints_laplace/10000_DoubleDQN.ckpt', './checkpoints_laplace/20000_DoubleDQN.ckpt', './checkpoints_laplace/30000_DoubleDQN.ckpt', './checkpoints_laplace/40000_DoubleDQN.ckpt', './checkpoints_laplace/50000_DoubleDQN.ckpt', './checkpoints_laplace/60000_DoubleDQN.ckpt', './checkpoints_laplace/70000_DoubleDQN.ckpt', './checkpoints_laplace/80000_DoubleDQN.ckpt', './checkpoints_laplace/90000_DoubleDQN.ckpt', './checkpoints_laplace/100000_DoubleDQN.ckpt', './checkpoints_laplace/110000_DoubleDQN.ckpt', './checkpoints_laplace/120000_DoubleDQN.ckpt', './checkpoints_laplace/130000_DoubleDQN.ckpt', './checkpoints_laplace/140000_DoubleDQN.ckpt', './checkpoints_laplace/150000_DoubleDQN.ckpt', './checkpoints_laplace/160000_DoubleDQN.ckpt', './checkpoints_laplace/170000_DoubleDQN.ckpt', './checkpoints_laplace/180000_DoubleDQN.ckpt', './checkpoints_laplace/190000_DoubleDQN.ckpt', './checkpoints_laplace/200000_DoubleDQN.ckpt', './checkpoints_laplace/210000_DoubleDQN.ckpt', './checkpoints_laplace/220000_DoubleDQN.ckpt', './checkpoints_laplace/230000_DoubleDQN.ckpt', './checkpoints_laplace/240000_DoubleDQN.ckpt', './checkpoints_laplace/250000_DoubleDQN.ckpt', './checkpoints_laplace/260000_DoubleDQN.ckpt', './checkpoints_laplace/270000_DoubleDQN.ckpt', './checkpoints_laplace/280000_DoubleDQN.ckpt', './checkpoints_laplace/290000_DoubleDQN.ckpt', './checkpoints_laplace/300000_DoubleDQN.ckpt', './checkpoints_laplace/310000_DoubleDQN.ckpt', './checkpoints_laplace/320000_DoubleDQN.ckpt', './checkpoints_laplace/330000_DoubleDQN.ckpt', './checkpoints_laplace/340000_DoubleDQN.ckpt', './checkpoints_laplace/350000_DoubleDQN.ckpt', './checkpoints_laplace/360000_DoubleDQN.ckpt', './checkpoints_laplace/370000_DoubleDQN.ckpt', './checkpoints_laplace/380000_DoubleDQN.ckpt', './checkpoints_laplace/390000_DoubleDQN.ckpt', './checkpoints_laplace/400000_DoubleDQN.ckpt', './checkpoints_laplace/410000_DoubleDQN.ckpt', './checkpoints_laplace/420000_DoubleDQN.ckpt', './checkpoints_laplace/430000_DoubleDQN.ckpt', './checkpoints_laplace/440000_DoubleDQN.ckpt', './checkpoints_laplace/450000_DoubleDQN.ckpt', './checkpoints_laplace/460000_DoubleDQN.ckpt', './checkpoints_laplace/470000_DoubleDQN.ckpt', './checkpoints_laplace/480000_DoubleDQN.ckpt', './checkpoints_laplace/490000_DoubleDQN.ckpt', './checkpoints_laplace/500000_DoubleDQN.ckpt', './checkpoints_laplace/510000_DoubleDQN.ckpt', './checkpoints_laplace/520000_DoubleDQN.ckpt', './checkpoints_laplace/530000_DoubleDQN.ckpt', './checkpoints_laplace/540000_DoubleDQN.ckpt', './checkpoints_laplace/550000_DoubleDQN.ckpt', './checkpoints_laplace/560000_DoubleDQN.ckpt', './checkpoints_laplace/570000_DoubleDQN.ckpt', './checkpoints_laplace/580000_DoubleDQN.ckpt', './checkpoints_laplace/590000_DoubleDQN.ckpt', './checkpoints_laplace/600000_DoubleDQN.ckpt', './checkpoints_laplace/610000_DoubleDQN.ckpt', './checkpoints_laplace/620000_DoubleDQN.ckpt', './checkpoints_laplace/630000_DoubleDQN.ckpt', './checkpoints_laplace/640000_DoubleDQN.ckpt', './checkpoints_laplace/650000_DoubleDQN.ckpt', './checkpoints_laplace/660000_DoubleDQN.ckpt', './checkpoints_laplace/670000_DoubleDQN.ckpt', './checkpoints_laplace/680000_DoubleDQN.ckpt', './checkpoints_laplace/690000_DoubleDQN.ckpt', './checkpoints_laplace/700000_DoubleDQN.ckpt', './checkpoints_laplace/710000_DoubleDQN.ckpt', './checkpoints_laplace/720000_DoubleDQN.ckpt', './checkpoints_laplace/730000_DoubleDQN.ckpt', './checkpoints_laplace/740000_DoubleDQN.ckpt', './checkpoints_laplace/750000_DoubleDQN.ckpt', './checkpoints_laplace/760000_DoubleDQN.ckpt', './checkpoints_laplace/770000_DoubleDQN.ckpt', './checkpoints_laplace/780000_DoubleDQN.ckpt', './checkpoints_laplace/790000_DoubleDQN.ckpt', './checkpoints_laplace/800000_DoubleDQN.ckpt', './checkpoints_laplace/810000_DoubleDQN.ckpt', './checkpoints_laplace/820000_DoubleDQN.ckpt', './checkpoints_laplace/830000_DoubleDQN.ckpt', './checkpoints_laplace/840000_DoubleDQN.ckpt', './checkpoints_laplace/850000_DoubleDQN.ckpt', './checkpoints_laplace/860000_DoubleDQN.ckpt', './checkpoints_laplace/870000_DoubleDQN.ckpt', './checkpoints_laplace/880000_DoubleDQN.ckpt', './checkpoints_laplace/890000_DoubleDQN.ckpt', './checkpoints_laplace/900000_DoubleDQN.ckpt', './checkpoints_laplace/910000_DoubleDQN.ckpt', './checkpoints_laplace/920000_DoubleDQN.ckpt', './checkpoints_laplace/930000_DoubleDQN.ckpt', './checkpoints_laplace/940000_DoubleDQN.ckpt', './checkpoints_laplace/950000_DoubleDQN.ckpt', './checkpoints_laplace/960000_DoubleDQN.ckpt', './checkpoints_laplace/970000_DoubleDQN.ckpt', './checkpoints_laplace/980000_DoubleDQN.ckpt', './checkpoints_laplace/990000_DoubleDQN.ckpt', './checkpoints_laplace/1000000_DoubleDQN.ckpt']\n"
     ]
    }
   ],
   "source": [
    "ckpt_names = get_ckpt_names()\n",
    "print(ckpt_names)"
   ]
  },
  {
   "cell_type": "code",
   "execution_count": null,
   "metadata": {
    "colab": {},
    "colab_type": "code",
    "id": "0P6z1ifw21UQ"
   },
   "outputs": [
    {
     "data": {
      "image/png": "[encoded data removed]",
      "text/plain": [
       "<Figure size 1440x360 with 1 Axes>"
      ]
     },
     "metadata": {
      "needs_background": "light"
     },
     "output_type": "display_data"
    }
   ],
   "source": [
    "rewards = []\n",
    "idx_arr = []\n",
    "for idx,ckpt in enumerate(ckpt_names):\n",
    "    if os.path.isfile(ckpt):\n",
    "        load_ckpt = ckpt\n",
    "        # Load the Model\n",
    "        current_model = CnnDQN(env.observation_space.shape, env.action_space.n).to(device)\n",
    "        current_model.load_state_dict(torch.load(load_ckpt))\n",
    "\n",
    "        if USE_CUDA:\n",
    "            current_model = current_model.cuda()\n",
    "\n",
    "        # run the loaded model, save the output\n",
    "        r = test(current_model)\n",
    "\n",
    "        rewards.append(r)\n",
    "        idx_arr.append(idx)\n",
    "        plot_test(idx_arr, rewards)"
   ]
  },
  {
   "cell_type": "markdown",
   "metadata": {},
   "source": [
    "## 30 runs for 10k frames each"
   ]
  },
  {
   "cell_type": "code",
   "execution_count": null,
   "metadata": {
    "colab": {},
    "colab_type": "code",
    "id": "9AIS6JXS21US"
   },
   "outputs": [
    {
     "name": "stdout",
     "output_type": "stream",
     "text": [
      "Sample 0\n"
     ]
    },
    {
     "name": "stderr",
     "output_type": "stream",
     "text": [
      "c:\\users\\blake\\appdata\\local\\programs\\python\\python36\\lib\\site-packages\\ipykernel_launcher.py:2: UserWarning: volatile was removed and now has no effect. Use `with torch.no_grad():` instead.\n",
      "  \n"
     ]
    },
    {
     "name": "stdout",
     "output_type": "stream",
     "text": [
      "Data: [-21.0, -21.0, -21.0, -21.0, -21.0, -21.0, -21.0, -21.0, -21.0, -21.0, -21.0, -21.0, -21.0, -21.0, -21.0, -21.0, -21.0, -21.0, -21.0, -21.0, -21.0, -21.0, -21.0, -21.0, -21.0, -21.0, -21.0, -21.0, -21.0, -21.0, -21.0, -21.0, -21.0, -21.0, -21.0, -21.0, -21.0, -21.0, -21.0, -21.0, -21.0, -21.0, -21.0, -21.0, -21.0, -21.0, -21.0, -21.0, -21.0, -21.0, -21.0, -21.0, -21.0, -21.0, -21.0, -21.0, -21.0, -21.0, -21.0, -21.0, -21.0, -21.0, -21.0, -21.0, -21.0, -21.0, -21.0, -21.0, -21.0, -21.0, -21.0, -21.0, -21.0, -21.0, -21.0, -21.0, -21.0, -21.0, -21.0, -21.0, -21.0, -21.0, -21.0, -21.0, -21.0, -21.0, -21.0, -21.0, -21.0, -21.0, -21.0, -21.0, -21.0, -21.0, -21.0, -21.0, -21.0, -21.0, -21.0, -21.0]\n",
      "Sample 1\n"
     ]
    }
   ],
   "source": [
    "numerical = []\n",
    "\n",
    "recent_checkpoint = ckpt_dir + '/' +'1000000_DoubleDQN.ckpt'\n",
    "for i in range(0,20):\n",
    "    subset = []\n",
    "    print(\"Sample {}\".format(i))\n",
    "    for frame in range(100):\n",
    "        # Load the Model\n",
    "        current_model = CnnDQN(env.observation_space.shape, env.action_space.n).to(device)\n",
    "        current_model.load_state_dict(torch.load(recent_checkpoint))\n",
    "        if USE_CUDA:\n",
    "            current_model = current_model.cuda()\n",
    "\n",
    "        r = test(current_model)\n",
    "\n",
    "        subset.append(r)\n",
    "#         plot_test([frame], rewards)\n",
    "    print(\"Data: {}\".format(subset))\n",
    "    numerical.append(subset)\n",
    "    "
   ]
  },
  {
   "cell_type": "markdown",
   "metadata": {},
   "source": [
    "## Numerical analysis"
   ]
  },
  {
   "cell_type": "markdown",
   "metadata": {},
   "source": [
    "#### Get average and median for each of 30 runs, and take mean of those means "
   ]
  },
  {
   "cell_type": "code",
   "execution_count": null,
   "metadata": {},
   "outputs": [],
   "source": [
    "# TODO"
   ]
  }
 ],
 "metadata": {
  "colab": {
   "name": "DDQN.ipynb",
   "provenance": []
  },
  "kernelspec": {
   "display_name": "Python 3",
   "language": "python",
   "name": "python3"
  },
  "language_info": {
   "codemirror_mode": {
    "name": "ipython",
    "version": 3
   },
   "file_extension": ".py",
   "mimetype": "text/x-python",
   "name": "python",
   "nbconvert_exporter": "python",
   "pygments_lexer": "ipython3",
   "version": "3.6.7"
  }
 },
 "nbformat": 4,
 "nbformat_minor": 1
}
