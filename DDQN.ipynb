{
  "nbformat": 4,
  "nbformat_minor": 0,
  "metadata": {
    "kernelspec": {
      "display_name": "Python 3",
      "language": "python",
      "name": "python3"
    },
    "language_info": {
      "codemirror_mode": {
        "name": "ipython",
        "version": 3
      },
      "file_extension": ".py",
      "mimetype": "text/x-python",
      "name": "python",
      "nbconvert_exporter": "python",
      "pygments_lexer": "ipython3",
      "version": "3.6.2"
    },
    "colab": {
      "name": "DDQN.ipynb",
      "provenance": []
    }
  },
  "cells": [
    {
      "cell_type": "code",
      "metadata": {
        "id": "Snwqo95321TF",
        "colab_type": "code",
        "colab": {}
      },
      "source": [
        "import math, random\n",
        "\n",
        "import gym\n",
        "import numpy as np\n",
        "import os\n",
        "\n",
        "import torch\n",
        "import torch.nn as nn\n",
        "import torch.optim as optim\n",
        "import torch.autograd as autograd \n",
        "from torch.autograd import Variable\n",
        "import torch.nn.functional as F\n",
        "device = torch.device('cuda' if torch.cuda.is_available() else 'cpu')"
      ],
      "execution_count": 0,
      "outputs": []
    },
    {
      "cell_type": "code",
      "metadata": {
        "id": "xxmcAyc43Ibe",
        "colab_type": "code",
        "colab": {
          "base_uri": "https://localhost:8080/",
          "height": 34
        },
        "outputId": "e971394c-cfe6-4fae-d1a9-e26b41c9b977"
      },
      "source": [
        "os.listdir()"
      ],
      "execution_count": 15,
      "outputs": [
        {
          "output_type": "execute_result",
          "data": {
            "text/plain": [
              "['.config', 'sample_data']"
            ]
          },
          "metadata": {
            "tags": []
          },
          "execution_count": 15
        }
      ]
    },
    {
      "cell_type": "code",
      "metadata": {
        "id": "zxDzFr6K21TJ",
        "colab_type": "code",
        "colab": {}
      },
      "source": [
        "from IPython.display import clear_output\n",
        "import matplotlib.pyplot as plt\n",
        "%matplotlib inline"
      ],
      "execution_count": 0,
      "outputs": []
    },
    {
      "cell_type": "markdown",
      "metadata": {
        "id": "83anyxgg21TL",
        "colab_type": "text"
      },
      "source": [
        "<h3>Use Cuda</h3>"
      ]
    },
    {
      "cell_type": "code",
      "metadata": {
        "id": "O4gmd6kT21TM",
        "colab_type": "code",
        "colab": {}
      },
      "source": [
        "USE_CUDA = torch.cuda.is_available()\n",
        "Variable = lambda *args, **kwargs: autograd.Variable(*args, **kwargs).cuda() if USE_CUDA else autograd.Variable(*args, **kwargs)"
      ],
      "execution_count": 0,
      "outputs": []
    },
    {
      "cell_type": "markdown",
      "metadata": {
        "id": "xSMd-o7D21TP",
        "colab_type": "text"
      },
      "source": [
        "<h2>Replay Buffer</h2>"
      ]
    },
    {
      "cell_type": "code",
      "metadata": {
        "id": "JEFLd_sF21TP",
        "colab_type": "code",
        "colab": {}
      },
      "source": [
        "from collections import deque\n",
        "\n",
        "class ReplayBuffer(object):\n",
        "    def __init__(self, capacity):\n",
        "        self.buffer = deque(maxlen=capacity)\n",
        "    \n",
        "    def push(self, state, action, reward, next_state, done):\n",
        "        state      = np.expand_dims(state, 0)\n",
        "        next_state = np.expand_dims(next_state, 0)\n",
        "            \n",
        "        self.buffer.append((state, action, reward, next_state, done))\n",
        "    \n",
        "    def sample(self, batch_size):\n",
        "        state, action, reward, next_state, done = zip(*random.sample(self.buffer, batch_size))\n",
        "        return np.concatenate(state), action, reward, np.concatenate(next_state), done\n",
        "    \n",
        "    def __len__(self):\n",
        "        return len(self.buffer)"
      ],
      "execution_count": 0,
      "outputs": []
    },
    {
      "cell_type": "markdown",
      "metadata": {
        "id": "D3PsrvOS21TR",
        "colab_type": "text"
      },
      "source": [
        "<h2>Cart Pole Environment</h2>"
      ]
    },
    {
      "cell_type": "code",
      "metadata": {
        "id": "AT6anlRl21TS",
        "colab_type": "code",
        "colab": {}
      },
      "source": [
        "env_id = \"CartPole-v0\"\n",
        "env = gym.make(env_id)"
      ],
      "execution_count": 0,
      "outputs": []
    },
    {
      "cell_type": "markdown",
      "metadata": {
        "id": "fVg3HN3e21TV",
        "colab_type": "text"
      },
      "source": [
        "<h2>Epsilon greedy exploration</h2>"
      ]
    },
    {
      "cell_type": "code",
      "metadata": {
        "id": "CooD3Vc621TV",
        "colab_type": "code",
        "colab": {}
      },
      "source": [
        "epsilon_start = 1.0\n",
        "epsilon_final = 0.01\n",
        "epsilon_decay = 500\n",
        "\n",
        "epsilon_by_frame = lambda frame_idx: epsilon_final + (epsilon_start - epsilon_final) * math.exp(-1. * frame_idx / epsilon_decay)"
      ],
      "execution_count": 0,
      "outputs": []
    },
    {
      "cell_type": "code",
      "metadata": {
        "id": "7X7C05LV21TY",
        "colab_type": "code",
        "colab": {
          "base_uri": "https://localhost:8080/",
          "height": 282
        },
        "outputId": "ac82c5ec-eeec-4184-9816-3493111090ec"
      },
      "source": [
        "plt.plot([epsilon_by_frame(i) for i in range(10000)])"
      ],
      "execution_count": 7,
      "outputs": [
        {
          "output_type": "execute_result",
          "data": {
            "text/plain": [
              "[<matplotlib.lines.Line2D at 0x7f25905ad908>]"
            ]
          },
          "metadata": {
            "tags": []
          },
          "execution_count": 7
        },
        {
          "output_type": "display_data",
          "data": {
            "image/png": "[encoded data removed]",
            "text/plain": [
              "<Figure size 432x288 with 1 Axes>"
            ]
          },
          "metadata": {
            "tags": [],
            "needs_background": "light"
          }
        }
      ]
    },
    {
      "cell_type": "markdown",
      "metadata": {
        "id": "i3WEDQ2D21Tb",
        "colab_type": "text"
      },
      "source": [
        "<h2>Double Deep Q Network</h2>"
      ]
    },
    {
      "cell_type": "code",
      "metadata": {
        "id": "JOcjabZb21Tb",
        "colab_type": "code",
        "colab": {}
      },
      "source": [
        "class DQN(nn.Module):\n",
        "    def __init__(self, num_inputs, num_actions):\n",
        "        super(DQN, self).__init__()\n",
        "        \n",
        "        self.layers = nn.Sequential(\n",
        "            nn.Linear(env.observation_space.shape[0], 128),\n",
        "            nn.ReLU(),\n",
        "            nn.Linear(128, 128),\n",
        "            nn.ReLU(),\n",
        "            nn.Linear(128, env.action_space.n)\n",
        "        )\n",
        "        \n",
        "    def forward(self, x):\n",
        "        return self.layers(x)\n",
        "    \n",
        "    def act(self, state, epsilon):\n",
        "        if random.random() > epsilon:\n",
        "            state   = Variable(torch.FloatTensor(state).unsqueeze(0), volatile=True)\n",
        "            q_value = self.forward(state)\n",
        "            action  = q_value.max(1)[1].data.item()\n",
        "        else:\n",
        "            action = random.randrange(env.action_space.n)\n",
        "        return action"
      ],
      "execution_count": 0,
      "outputs": []
    },
    {
      "cell_type": "code",
      "metadata": {
        "id": "8D6vSRv221Te",
        "colab_type": "code",
        "colab": {}
      },
      "source": [
        "current_model = DQN(env.observation_space.shape[0], env.action_space.n)\n",
        "target_model  = DQN(env.observation_space.shape[0], env.action_space.n)\n",
        "\n",
        "if USE_CUDA:\n",
        "    current_model = current_model.cuda()\n",
        "    target_model  = target_model.cuda()\n",
        "    \n",
        "optimizer = optim.Adam(current_model.parameters())\n",
        "\n",
        "replay_buffer = ReplayBuffer(1000)"
      ],
      "execution_count": 0,
      "outputs": []
    },
    {
      "cell_type": "markdown",
      "metadata": {
        "id": "dssAD_XL21Tg",
        "colab_type": "text"
      },
      "source": [
        "<h3>Synchronize current policy net and target net</h3>"
      ]
    },
    {
      "cell_type": "code",
      "metadata": {
        "id": "agfxDsFv21Tg",
        "colab_type": "code",
        "colab": {}
      },
      "source": [
        "def update_target(current_model, target_model):\n",
        "    target_model.load_state_dict(current_model.state_dict())"
      ],
      "execution_count": 0,
      "outputs": []
    },
    {
      "cell_type": "code",
      "metadata": {
        "id": "0TAXheZR21Tj",
        "colab_type": "code",
        "colab": {}
      },
      "source": [
        "update_target(current_model, target_model)"
      ],
      "execution_count": 0,
      "outputs": []
    },
    {
      "cell_type": "markdown",
      "metadata": {
        "id": "RvQZ7Po821Tm",
        "colab_type": "text"
      },
      "source": [
        "<h2>Computing Temporal Difference Loss</h2>"
      ]
    },
    {
      "cell_type": "code",
      "metadata": {
        "id": "QBL_YaDl21Tm",
        "colab_type": "code",
        "colab": {}
      },
      "source": [
        "def compute_td_loss(batch_size):\n",
        "    state, action, reward, next_state, done = replay_buffer.sample(batch_size)\n",
        "\n",
        "    state      = Variable(torch.FloatTensor(np.float32(state)))\n",
        "    next_state = Variable(torch.FloatTensor(np.float32(next_state)))\n",
        "    action     = Variable(torch.LongTensor(action))\n",
        "    reward     = Variable(torch.FloatTensor(reward))\n",
        "    done       = Variable(torch.FloatTensor(done))\n",
        "\n",
        "    q_values      = current_model(state)\n",
        "    next_q_values = current_model(next_state)\n",
        "    next_q_state_values = target_model(next_state) \n",
        "\n",
        "    q_value       = q_values.gather(1, action.unsqueeze(1)).squeeze(1) \n",
        "    next_q_value = next_q_state_values.gather(1, torch.max(next_q_values, 1)[1].unsqueeze(1)).squeeze(1)\n",
        "    expected_q_value = reward + gamma * next_q_value * (1 - done)\n",
        "    \n",
        "    loss = (q_value - Variable(expected_q_value.data)).pow(2).mean()\n",
        "        \n",
        "    optimizer.zero_grad()\n",
        "    loss.backward()\n",
        "    optimizer.step()\n",
        "    \n",
        "    return loss"
      ],
      "execution_count": 0,
      "outputs": []
    },
    {
      "cell_type": "code",
      "metadata": {
        "id": "W5mjewXr21To",
        "colab_type": "code",
        "colab": {}
      },
      "source": [
        "def plot(frame_idx, rewards, losses):\n",
        "    clear_output(True)\n",
        "    plt.figure(figsize=(20,5))\n",
        "    plt.subplot(131)\n",
        "    plt.title('frame %s. reward: %s' % (frame_idx, np.mean(rewards[-10:])))\n",
        "    plt.plot(rewards)\n",
        "    plt.subplot(132)\n",
        "    plt.title('loss')\n",
        "    plt.plot(losses)\n",
        "    plt.show()"
      ],
      "execution_count": 0,
      "outputs": []
    },
    {
      "cell_type": "markdown",
      "metadata": {
        "id": "0fsFOPle21Tq",
        "colab_type": "text"
      },
      "source": [
        "<h2>Training</h2>"
      ]
    },
    {
      "cell_type": "code",
      "metadata": {
        "id": "2jfVbPBd21Tr",
        "colab_type": "code",
        "colab": {
          "base_uri": "https://localhost:8080/",
          "height": 291
        },
        "outputId": "90d5fc00-2936-41f8-8398-a5e15dc6d6ae"
      },
      "source": [
        "num_frames = 10000\n",
        "batch_size = 32\n",
        "gamma      = 0.99\n",
        "\n",
        "losses = []\n",
        "all_rewards = []\n",
        "episode_reward = 0\n",
        "\n",
        "ckpt_dir = './checkpoints'\n",
        "ckpt_names = []\n",
        "dir_exist = os.path.exists(ckpt_dir)\n",
        "if (dir_exist == 0):\n",
        "    os.mkdir(ckpt_dir)\n",
        "\n",
        "\n",
        "state = env.reset()\n",
        "for frame_idx in range(1, num_frames + 1):\n",
        "    epsilon = epsilon_by_frame(frame_idx)\n",
        "    action = current_model.act(state, epsilon)\n",
        "    \n",
        "    next_state, reward, done, _ = env.step(action)\n",
        "    replay_buffer.push(state, action, reward, next_state, done)\n",
        "    \n",
        "    state = next_state\n",
        "    episode_reward += reward\n",
        "    \n",
        "    if done:\n",
        "        state = env.reset()\n",
        "        all_rewards.append(episode_reward)\n",
        "        episode_reward = 0\n",
        "        \n",
        "    if len(replay_buffer) > batch_size:\n",
        "        loss = compute_td_loss(batch_size)\n",
        "        losses.append(loss.item())\n",
        "        \n",
        "    if frame_idx % 200 == 0:\n",
        "        plot(frame_idx, all_rewards, losses)\n",
        "  \n",
        "    if frame_idx % 100 == 0:\n",
        "        update_target(current_model, target_model)\n",
        "    \n",
        "    # save checkpoints every 1000 frames\n",
        "    if frame_idx % 1000 == 0:\n",
        "        save_str = str(frame_idx) + '_DoubleDQN.ckpt'\n",
        "        save_dir = os.path.join(ckpt_dir, save_str)\n",
        "        ckpt_names.append(save_dir)\n",
        "        torch.save(current_model.state_dict(), save_dir)\n"
      ],
      "execution_count": 17,
      "outputs": [
        {
          "output_type": "display_data",
          "data": {
            "image/png": "[encoded data removed]",
            "text/plain": [
              "<Figure size 1440x360 with 2 Axes>"
            ]
          },
          "metadata": {
            "tags": [],
            "needs_background": "light"
          }
        }
      ]
    },
    {
      "cell_type": "markdown",
      "metadata": {
        "id": "G5XZgLjW21Tt",
        "colab_type": "text"
      },
      "source": [
        "## Testing"
      ]
    },
    {
      "cell_type": "code",
      "metadata": {
        "id": "1E8iEJZs21Tt",
        "colab_type": "code",
        "colab": {
          "base_uri": "https://localhost:8080/",
          "height": 187
        },
        "outputId": "04dc9c94-5106-41f8-e738-3f8f5fc90a3a"
      },
      "source": [
        "for i in ckpt_names:\n",
        "    print(i)"
      ],
      "execution_count": 18,
      "outputs": [
        {
          "output_type": "stream",
          "text": [
            "./checkpoints/1000_DoubleDQN.ckpt\n",
            "./checkpoints/2000_DoubleDQN.ckpt\n",
            "./checkpoints/3000_DoubleDQN.ckpt\n",
            "./checkpoints/4000_DoubleDQN.ckpt\n",
            "./checkpoints/5000_DoubleDQN.ckpt\n",
            "./checkpoints/6000_DoubleDQN.ckpt\n",
            "./checkpoints/7000_DoubleDQN.ckpt\n",
            "./checkpoints/8000_DoubleDQN.ckpt\n",
            "./checkpoints/9000_DoubleDQN.ckpt\n",
            "./checkpoints/10000_DoubleDQN.ckpt\n"
          ],
          "name": "stdout"
        }
      ]
    },
    {
      "cell_type": "code",
      "metadata": {
        "id": "OpE2jZRB21Tv",
        "colab_type": "code",
        "colab": {}
      },
      "source": [
        ""
      ],
      "execution_count": 0,
      "outputs": []
    },
    {
      "cell_type": "code",
      "metadata": {
        "id": "uKgjwdVF21Ty",
        "colab_type": "code",
        "colab": {
          "base_uri": "https://localhost:8080/",
          "height": 51
        },
        "outputId": "8cc5c0a4-1f15-4ed2-d565-ef90bd5ac2c6"
      },
      "source": [
        "import gym\n",
        "import random\n",
        "env_id = \"CartPole-v0\"\n",
        "env=gym.make(env_id).env\n",
        "env.reset()\n",
        "done=False\n",
        "#env.render()\n",
        "while not done:\n",
        "    action = random.randrange(env.action_space.n)\n",
        "    next_state,reward,done,_ = env.step(action)\n",
        "    #env.render()\n",
        "env.reset()\n",
        "print(\"Action Space {}\".format(env.action_space))\n",
        "print(\"State Space {}\".format(env.observation_space))\n",
        "# env.render()"
      ],
      "execution_count": 19,
      "outputs": [
        {
          "output_type": "stream",
          "text": [
            "Action Space Discrete(2)\n",
            "State Space Box(4,)\n"
          ],
          "name": "stdout"
        }
      ]
    },
    {
      "cell_type": "code",
      "metadata": {
        "id": "P2LY3lEJ21T0",
        "colab_type": "code",
        "colab": {}
      },
      "source": [
        "env_id = \"CartPole-v0\"\n",
        "# No exploring, only playin to the model for Testing\n",
        "epsilon=0\n",
        "# done=False\n",
        "\n",
        "save_dir = './videos'\n",
        "dir_exist = os.path.exists(save_dir)\n",
        "if (dir_exist == 0):\n",
        "    os.mkdir(save_dir)\n",
        "\n",
        "def test(model):\n",
        "    done=False\n",
        "    model.eval()\n",
        "    \n",
        "    env_id = \"CartPole-v0\"\n",
        "    env = gym.make(env_id).env\n",
        "    # env = gym.wrappers.Monitor(env, save_dir, video_callable = lambda episode_idx: episode_idx%250==0)\n",
        "    state = env.reset()\n",
        "    #env.render()\n",
        "    \n",
        "    testReward=0\n",
        "    while not done:\n",
        "#         for frame_idx in range(1, num_frames + 1):=\n",
        "#         epsilon = epsilon_by_frame(frame_idx)\n",
        "        action = model.act(state, epsilon)\n",
        "\n",
        "        next_state, reward, done, _ = env.step(action)\n",
        "        #env.render()\n",
        "\n",
        "        state = next_state\n",
        "        testReward += reward\n",
        "    state = env.reset()\n",
        "    if done:\n",
        "        env.close()\n"
      ],
      "execution_count": 0,
      "outputs": []
    },
    {
      "cell_type": "code",
      "metadata": {
        "id": "NGb1IUp621T2",
        "colab_type": "code",
        "colab": {
          "base_uri": "https://localhost:8080/",
          "height": 71
        },
        "outputId": "6dd01f71-7ccd-4b1b-ab8a-ac48541d6db5"
      },
      "source": [
        "for ckpt in ckpt_names:\n",
        "    load_ckpt = ckpt\n",
        "    # Load the Model\n",
        "    current_model = DQN(env.observation_space.shape[0], env.action_space.n).to(device)\n",
        "    current_model.load_state_dict(torch.load(load_ckpt))\n",
        "    \n",
        "    # run the loaded model, save the output\n",
        "    test(current_model)"
      ],
      "execution_count": 25,
      "outputs": [
        {
          "output_type": "stream",
          "text": [
            "/usr/local/lib/python3.6/dist-packages/ipykernel_launcher.py:2: UserWarning: volatile was removed and now has no effect. Use `with torch.no_grad():` instead.\n",
            "  \n"
          ],
          "name": "stderr"
        }
      ]
    },
    {
      "cell_type": "markdown",
      "metadata": {
        "id": "6rgkWMS-21T4",
        "colab_type": "text"
      },
      "source": [
        "<p><hr></p>"
      ]
    },
    {
      "cell_type": "markdown",
      "metadata": {
        "id": "4xphxTwU21T4",
        "colab_type": "text"
      },
      "source": [
        "<h1>Atari Environment</h1>"
      ]
    },
    {
      "cell_type": "code",
      "metadata": {
        "id": "hA8R7yV421T4",
        "colab_type": "code",
        "colab": {}
      },
      "source": [
        "from wrappers import make_atari, wrap_deepmind, wrap_pytorch"
      ],
      "execution_count": 0,
      "outputs": []
    },
    {
      "cell_type": "code",
      "metadata": {
        "id": "P5d86v8921T6",
        "colab_type": "code",
        "colab": {}
      },
      "source": [
        "env_id = \"PongNoFrameskip-v4\"\n",
        "env    = make_atari(env_id)\n",
        "env    = wrap_deepmind(env)\n",
        "env    = wrap_pytorch(env)"
      ],
      "execution_count": 0,
      "outputs": []
    },
    {
      "cell_type": "code",
      "metadata": {
        "id": "10agAKi721T8",
        "colab_type": "code",
        "colab": {}
      },
      "source": [
        "class CnnDQN(nn.Module):\n",
        "    def __init__(self, input_shape, num_actions):\n",
        "        super(CnnDQN, self).__init__()\n",
        "        \n",
        "        self.input_shape = input_shape\n",
        "        self.num_actions = num_actions\n",
        "        \n",
        "        self.features = nn.Sequential(\n",
        "            nn.Conv2d(input_shape[0], 32, kernel_size=8, stride=4),\n",
        "            nn.ReLU(),\n",
        "            nn.Conv2d(32, 64, kernel_size=4, stride=2),\n",
        "            nn.ReLU(),\n",
        "            nn.Conv2d(64, 64, kernel_size=3, stride=1),\n",
        "            nn.ReLU()\n",
        "        )\n",
        "        \n",
        "        self.fc = nn.Sequential(\n",
        "            nn.Linear(self.feature_size(), 512),\n",
        "            nn.ReLU(),\n",
        "            nn.Linear(512, self.num_actions)\n",
        "        )\n",
        "        \n",
        "    def forward(self, x):\n",
        "        x = self.features(x)\n",
        "        x = x.view(x.size(0), -1)\n",
        "        x = self.fc(x)\n",
        "        return x\n",
        "    \n",
        "    def feature_size(self):\n",
        "        return self.features(autograd.Variable(torch.zeros(1, *self.input_shape))).view(1, -1).size(1)\n",
        "    \n",
        "    def act(self, state, epsilon):\n",
        "        if random.random() > epsilon:\n",
        "            state   = Variable(torch.FloatTensor(np.float32(state)).unsqueeze(0), volatile=True)\n",
        "            q_value = self.forward(state)\n",
        "            action  = q_value.max(1)[1].data[0]\n",
        "        else:\n",
        "            action = random.randrange(env.action_space.n)\n",
        "        return action"
      ],
      "execution_count": 0,
      "outputs": []
    },
    {
      "cell_type": "code",
      "metadata": {
        "id": "jVSUk3sj21T-",
        "colab_type": "code",
        "colab": {}
      },
      "source": [
        "current_model = CnnDQN(env.observation_space.shape, env.action_space.n)\n",
        "# current_model.load_state_dict(torch.load('current.ckpt'))\n",
        "target_model  = CnnDQN(env.observation_space.shape, env.action_space.n)\n",
        "# target_model.load_state_dict(torch.load('target.ckpt'))\n",
        "\n",
        "if USE_CUDA:\n",
        "    current_model = current_model.cuda()\n",
        "    target_model  = target_model.cuda()\n",
        "    \n",
        "optimizer = optim.Adam(current_model.parameters(), lr=0.0001)\n",
        "\n",
        "replay_initial = 10000\n",
        "replay_buffer = ReplayBuffer(100000)\n",
        "\n",
        "update_target(current_model, target_model)"
      ],
      "execution_count": 0,
      "outputs": []
    },
    {
      "cell_type": "code",
      "metadata": {
        "id": "IpK89NDq21UA",
        "colab_type": "code",
        "colab": {}
      },
      "source": [
        "epsilon_start = 1.0\n",
        "epsilon_final = 0.01\n",
        "epsilon_decay = 30000\n",
        "\n",
        "epsilon_by_frame = lambda frame_idx: epsilon_final + (epsilon_start - epsilon_final) * math.exp(-1. * frame_idx / epsilon_decay)"
      ],
      "execution_count": 0,
      "outputs": []
    },
    {
      "cell_type": "code",
      "metadata": {
        "id": "trDGfx8o21UC",
        "colab_type": "code",
        "colab": {
          "base_uri": "https://localhost:8080/",
          "height": 295
        },
        "outputId": "47d11485-0115-4531-93de-dd80fc95f310"
      },
      "source": [
        "plt.plot([epsilon_by_frame(i) for i in range(1000000)])"
      ],
      "execution_count": 33,
      "outputs": [
        {
          "output_type": "execute_result",
          "data": {
            "text/plain": [
              "[<matplotlib.lines.Line2D at 0x7f258eeb8518>]"
            ]
          },
          "metadata": {
            "tags": []
          },
          "execution_count": 33
        },
        {
          "output_type": "display_data",
          "data": {
            "image/png": "[encoded data removed]",
            "text/plain": [
              "<Figure size 432x288 with 1 Axes>"
            ]
          },
          "metadata": {
            "tags": [],
            "needs_background": "light"
          }
        }
      ]
    },
    {
      "cell_type": "code",
      "metadata": {
        "id": "Kw42wRHn21UD",
        "colab_type": "code",
        "colab": {}
      },
      "source": [
        ""
      ],
      "execution_count": 0,
      "outputs": []
    },
    {
      "cell_type": "markdown",
      "metadata": {
        "id": "qTUbv7VL21UF",
        "colab_type": "text"
      },
      "source": [
        "## Training"
      ]
    },
    {
      "cell_type": "code",
      "metadata": {
        "id": "XgBYLNES21UH",
        "colab_type": "code",
        "colab": {
          "base_uri": "https://localhost:8080/",
          "height": 285
        },
        "outputId": "4e7c7030-cb8f-40df-b526-f193ce742827"
      },
      "source": [
        "num_frames = 1000000\n",
        "batch_size = 32\n",
        "gamma      = 0.99\n",
        "\n",
        "losses = []\n",
        "all_rewards = []\n",
        "episode_reward = 0\n",
        "\n",
        "state = env.reset()\n",
        "for frame_idx in range(1, num_frames + 1):\n",
        "    epsilon = epsilon_by_frame(frame_idx)\n",
        "    action = current_model.act(state, epsilon)\n",
        "    \n",
        "    next_state, reward, done, _ = env.step(action)\n",
        "    replay_buffer.push(state, action, reward, next_state, done)\n",
        "    \n",
        "    state = next_state\n",
        "    episode_reward += reward\n",
        "    \n",
        "    if done:\n",
        "        state = env.reset()\n",
        "        all_rewards.append(episode_reward)\n",
        "        episode_reward = 0\n",
        "        \n",
        "    if len(replay_buffer) > replay_initial:\n",
        "        loss = compute_td_loss(batch_size)\n",
        "        losses.append(loss.item())\n",
        "        \n",
        "    if frame_idx % 1000 == 0:\n",
        "        plot(frame_idx, all_rewards, losses)\n",
        "        \n",
        "    if frame_idx % 1000 == 0:\n",
        "        update_target(current_model, target_model)\n",
        "        "
      ],
      "execution_count": 0,
      "outputs": [
        {
          "output_type": "display_data",
          "data": {
            "image/png": "[encoded data removed]",
            "text/plain": [
              "<Figure size 1440x360 with 2 Axes>"
            ]
          },
          "metadata": {
            "tags": [],
            "needs_background": "light"
          }
        }
      ]
    },
    {
      "cell_type": "markdown",
      "metadata": {
        "id": "OOk2s6Yy21UJ",
        "colab_type": "text"
      },
      "source": [
        "## Testing with Visualization"
      ]
    },
    {
      "cell_type": "code",
      "metadata": {
        "id": "bjMCRGTs21UJ",
        "colab_type": "code",
        "colab": {}
      },
      "source": [
        "from wrappers import make_atari, wrap_deepmind, wrap_pytorch\n",
        "env_id = \"PongNoFrameskip-v4\"\n",
        "env    = make_atari(env_id)\n",
        "env    = wrap_deepmind(env)\n",
        "env    = wrap_pytorch(env)"
      ],
      "execution_count": 0,
      "outputs": []
    },
    {
      "cell_type": "code",
      "metadata": {
        "id": "rBqysPHM21UL",
        "colab_type": "code",
        "colab": {}
      },
      "source": [
        "env.observation_space.shape"
      ],
      "execution_count": 0,
      "outputs": []
    },
    {
      "cell_type": "code",
      "metadata": {
        "id": "FPApFKRo21UN",
        "colab_type": "code",
        "colab": {}
      },
      "source": [
        "# Loading Checkpoints\n",
        "\n",
        "# current_model = CnnDQN(env.observation_space.shape, env.action_space.n)\n",
        "# target_model  = CnnDQN(env.observation_space.shape, env.action_space.n)\n",
        "\n",
        "current_model_Atari = CnnDQN(env.observation_space.shape, env.action_space.n).to(device)\n",
        "current_model_Atari.load_state_dict(torch.load('current.ckpt'))\n",
        "\n",
        "target_model_Atari = CnnDQN(env.observation_space.shape, env.action_space.n).to(device)\n",
        "target_model_Atari.load_state_dict(torch.load('target.ckpt'))"
      ],
      "execution_count": 0,
      "outputs": []
    },
    {
      "cell_type": "code",
      "metadata": {
        "id": "zYkY0x1Q21UP",
        "colab_type": "code",
        "colab": {}
      },
      "source": [
        "# env_id = \"CartPole-v0\"\n",
        "# No exploring, only playin to the model for Testing\n",
        "epsilon=0\n",
        "# done=False\n",
        "\n",
        "def test(model):\n",
        "    done=False\n",
        "    model.eval()\n",
        "    \n",
        "    env = make_atari(env_id)\n",
        "    env = wrap_deepmind(env)\n",
        "    env = wrap_pytorch(env)\n",
        "    \n",
        "    state = env.reset()\n",
        "    #env.render()\n",
        "    \n",
        "    testReward=0\n",
        "    \n",
        "    while not done:\n",
        "#         for frame_idx in range(1, num_frames + 1):\n",
        "#             epsilon = epsilon_by_frame(frame_idx)\n",
        "        action = model.act(state, epsilon)\n",
        "\n",
        "        next_state, reward, done, _ = env.step(action)\n",
        "        env.render()\n",
        "\n",
        "        state = next_state\n",
        "        testReward += reward\n",
        "    \n",
        "    state = env.reset()\n",
        "    \n",
        "    \n"
      ],
      "execution_count": 0,
      "outputs": []
    },
    {
      "cell_type": "code",
      "metadata": {
        "id": "0P6z1ifw21UQ",
        "colab_type": "code",
        "colab": {}
      },
      "source": [
        "test(current_model_Atari)"
      ],
      "execution_count": 0,
      "outputs": []
    },
    {
      "cell_type": "code",
      "metadata": {
        "id": "9AIS6JXS21US",
        "colab_type": "code",
        "colab": {}
      },
      "source": [
        ""
      ],
      "execution_count": 0,
      "outputs": []
    }
  ]
}